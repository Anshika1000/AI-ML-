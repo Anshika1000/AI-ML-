{
 "cells": [
  {
   "cell_type": "code",
   "execution_count": 7,
   "id": "d9735a1b-c3e2-4f12-814e-0edc9e7e15f5",
   "metadata": {},
   "outputs": [
    {
     "name": "stdin",
     "output_type": "stream",
     "text": [
      "Enter your move = Rock,Paper,Scissor : Paper\n"
     ]
    },
    {
     "name": "stdout",
     "output_type": "stream",
     "text": [
      "User choice=Paper, Computer choice=Rock\n",
      "Paper covers rock = You win\n"
     ]
    }
   ],
   "source": [
    "\"\"\"\n",
    "Work Flow of Project\n",
    "-Input from user(Rock, Paper, Scissor)\n",
    "-Computer choice(Computer well choose randomly not conditionally)\n",
    "-Result print\n",
    "\n",
    "Here is our logic\n",
    "Cases:\n",
    "A- Rock\n",
    "Rock - Rock= Tie\n",
    "Rock - Paper= Paper win\n",
    "Rock - Scissor= Rock win\n",
    "\n",
    "B- Paper\n",
    "Paper - Paper= Tie\n",
    "Paper - Rock= Paper win\n",
    "Paper - Scissor= Scissor win\n",
    "\n",
    "C- Scissor\n",
    "Scissor - Scissor= Tie\n",
    "Scissor - Rock= Rock win\n",
    "Scissor - Paper= Scissor\n",
    "\n",
    "\"\"\"\n",
    "import random\n",
    "item_list=[\"Rock\",\"Paper\",\"Scissor\"]\n",
    "user_choice=input(\"Enter your move = Rock,Paper,Scissor :\")\n",
    "comp_choice=random.choice(item_list)\n",
    "print(f\"User choice={user_choice}, Computer choice={comp_choice}\")\n",
    "\n",
    "if user_choice==comp_choice:\n",
    "    print(\"Both chooses same = Match Tie\")\n",
    "elif user_choice== \"Rock\":\n",
    "    if comp_choice==\"Paper\":\n",
    "        print(\"Paper covers rock = Computer win\")\n",
    "    else:\n",
    "        print(\"Rock smashes scissor = You win\")\n",
    "elif user_choice== \"Paper\":\n",
    "    if comp_choice== \"Rock\":\n",
    "        print(\"Paper covers rock = You win\")\n",
    "    else:\n",
    "        print(\"Scissor cuts paper = Computer win\")\n",
    "elif user_choice== \"Scissor\":\n",
    "    if comp_choice== \"Paper\":\n",
    "        print(\"Scissor cuts paper = You win\")\n",
    "    else:\n",
    "        print(\"Rock smashesh scissor = Computer win\")\n",
    "        \n",
    "        \n"
   ]
  },
  {
   "cell_type": "code",
   "execution_count": null,
   "id": "c60d1080-9bbf-4432-a864-220f0076dca6",
   "metadata": {},
   "outputs": [],
   "source": []
  }
 ],
 "metadata": {
  "kernelspec": {
   "display_name": "Python 3 (ipykernel)",
   "language": "python",
   "name": "python3"
  },
  "language_info": {
   "codemirror_mode": {
    "name": "ipython",
    "version": 3
   },
   "file_extension": ".py",
   "mimetype": "text/x-python",
   "name": "python",
   "nbconvert_exporter": "python",
   "pygments_lexer": "ipython3",
   "version": "3.12.4"
  }
 },
 "nbformat": 4,
 "nbformat_minor": 5
}
