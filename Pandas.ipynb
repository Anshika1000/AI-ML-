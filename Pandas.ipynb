{
 "cells": [
  {
   "cell_type": "markdown",
   "id": "0f80396d-6145-4a9f-a339-f548a5b07bed",
   "metadata": {},
   "source": [
    "DataFrame"
   ]
  },
  {
   "cell_type": "code",
   "execution_count": 3,
   "id": "9abe7817-6c8f-49f9-b49d-c64d9a3cafa8",
   "metadata": {},
   "outputs": [],
   "source": [
    "import pandas as pd\n"
   ]
  },
  {
   "cell_type": "code",
   "execution_count": 5,
   "id": "0d566557-2d50-46aa-b071-b01ec27ae593",
   "metadata": {},
   "outputs": [],
   "source": [
    "student=pd.DataFrame({\"Name\":[\"Bob\",\"Anne\",\"Sam\"],\"Marks\":[56,89,34]})"
   ]
  },
  {
   "cell_type": "code",
   "execution_count": 7,
   "id": "45b74fe4-b252-4126-96bd-d490e9f09cec",
   "metadata": {},
   "outputs": [
    {
     "data": {
      "text/html": [
       "<div>\n",
       "<style scoped>\n",
       "    .dataframe tbody tr th:only-of-type {\n",
       "        vertical-align: middle;\n",
       "    }\n",
       "\n",
       "    .dataframe tbody tr th {\n",
       "        vertical-align: top;\n",
       "    }\n",
       "\n",
       "    .dataframe thead th {\n",
       "        text-align: right;\n",
       "    }\n",
       "</style>\n",
       "<table border=\"1\" class=\"dataframe\">\n",
       "  <thead>\n",
       "    <tr style=\"text-align: right;\">\n",
       "      <th></th>\n",
       "      <th>Name</th>\n",
       "      <th>Marks</th>\n",
       "    </tr>\n",
       "  </thead>\n",
       "  <tbody>\n",
       "    <tr>\n",
       "      <th>0</th>\n",
       "      <td>Bob</td>\n",
       "      <td>56</td>\n",
       "    </tr>\n",
       "    <tr>\n",
       "      <th>1</th>\n",
       "      <td>Anne</td>\n",
       "      <td>89</td>\n",
       "    </tr>\n",
       "    <tr>\n",
       "      <th>2</th>\n",
       "      <td>Sam</td>\n",
       "      <td>34</td>\n",
       "    </tr>\n",
       "  </tbody>\n",
       "</table>\n",
       "</div>"
      ],
      "text/plain": [
       "   Name  Marks\n",
       "0   Bob     56\n",
       "1  Anne     89\n",
       "2   Sam     34"
      ]
     },
     "execution_count": 7,
     "metadata": {},
     "output_type": "execute_result"
    }
   ],
   "source": [
    "student"
   ]
  },
  {
   "cell_type": "code",
   "execution_count": 18,
   "id": "cba66ee0-4aba-4268-ac54-37c25cd5f0a7",
   "metadata": {},
   "outputs": [
    {
     "data": {
      "text/plain": [
       "pandas.core.frame.DataFrame"
      ]
     },
     "execution_count": 18,
     "metadata": {},
     "output_type": "execute_result"
    }
   ],
   "source": [
    "type(student)"
   ]
  },
  {
   "cell_type": "markdown",
   "id": "c4017d7b-bb7a-4c40-bb13-c55e48cb46ef",
   "metadata": {},
   "source": [
    "Data Loading"
   ]
  },
  {
   "cell_type": "code",
   "execution_count": 10,
   "id": "bdb68f4a-4422-47c0-a09c-18c0f88c175e",
   "metadata": {},
   "outputs": [],
   "source": [
    "data=pd.read_csv(\"imdb_Top_250_TV_Shows.csv\")"
   ]
  },
  {
   "cell_type": "code",
   "execution_count": 12,
   "id": "cf1a007c-4642-4fd6-b417-b49661849f1b",
   "metadata": {},
   "outputs": [
    {
     "data": {
      "text/html": [
       "<div>\n",
       "<style scoped>\n",
       "    .dataframe tbody tr th:only-of-type {\n",
       "        vertical-align: middle;\n",
       "    }\n",
       "\n",
       "    .dataframe tbody tr th {\n",
       "        vertical-align: top;\n",
       "    }\n",
       "\n",
       "    .dataframe thead th {\n",
       "        text-align: right;\n",
       "    }\n",
       "</style>\n",
       "<table border=\"1\" class=\"dataframe\">\n",
       "  <thead>\n",
       "    <tr style=\"text-align: right;\">\n",
       "      <th></th>\n",
       "      <th>Shows Name</th>\n",
       "      <th>Release Year</th>\n",
       "      <th>Episodes</th>\n",
       "      <th>Rating</th>\n",
       "      <th>Rating given by people</th>\n",
       "    </tr>\n",
       "  </thead>\n",
       "  <tbody>\n",
       "    <tr>\n",
       "      <th>0</th>\n",
       "      <td>Breaking Bad</td>\n",
       "      <td>2008–2013</td>\n",
       "      <td>62 eps</td>\n",
       "      <td>9.5</td>\n",
       "      <td>(2.2M)</td>\n",
       "    </tr>\n",
       "    <tr>\n",
       "      <th>1</th>\n",
       "      <td>Planet Earth II</td>\n",
       "      <td>2016</td>\n",
       "      <td>6 eps</td>\n",
       "      <td>9.5</td>\n",
       "      <td>(163K)</td>\n",
       "    </tr>\n",
       "    <tr>\n",
       "      <th>2</th>\n",
       "      <td>Planet Earth</td>\n",
       "      <td>2006</td>\n",
       "      <td>11 eps</td>\n",
       "      <td>9.4</td>\n",
       "      <td>(224K)</td>\n",
       "    </tr>\n",
       "    <tr>\n",
       "      <th>3</th>\n",
       "      <td>Band of Brothers</td>\n",
       "      <td>2001</td>\n",
       "      <td>10 eps</td>\n",
       "      <td>9.4</td>\n",
       "      <td>(547K)</td>\n",
       "    </tr>\n",
       "    <tr>\n",
       "      <th>4</th>\n",
       "      <td>Chernobyl</td>\n",
       "      <td>2019</td>\n",
       "      <td>5 eps</td>\n",
       "      <td>9.3</td>\n",
       "      <td>(912K)</td>\n",
       "    </tr>\n",
       "    <tr>\n",
       "      <th>...</th>\n",
       "      <td>...</td>\n",
       "      <td>...</td>\n",
       "      <td>...</td>\n",
       "      <td>...</td>\n",
       "      <td>...</td>\n",
       "    </tr>\n",
       "    <tr>\n",
       "      <th>245</th>\n",
       "      <td>Umbre</td>\n",
       "      <td>2014–2019</td>\n",
       "      <td>21 eps</td>\n",
       "      <td>8.7</td>\n",
       "      <td>(12K)</td>\n",
       "    </tr>\n",
       "    <tr>\n",
       "      <th>246</th>\n",
       "      <td>Foyle's War</td>\n",
       "      <td>2002–2015</td>\n",
       "      <td>28 eps</td>\n",
       "      <td>8.6</td>\n",
       "      <td>(19K)</td>\n",
       "    </tr>\n",
       "    <tr>\n",
       "      <th>247</th>\n",
       "      <td>Gintama</td>\n",
       "      <td>2005–2021</td>\n",
       "      <td>375 eps</td>\n",
       "      <td>8.7</td>\n",
       "      <td>(17K)</td>\n",
       "    </tr>\n",
       "    <tr>\n",
       "      <th>248</th>\n",
       "      <td>The Great British Baking Show</td>\n",
       "      <td>2010–</td>\n",
       "      <td>189 eps</td>\n",
       "      <td>8.6</td>\n",
       "      <td>(13K)</td>\n",
       "    </tr>\n",
       "    <tr>\n",
       "      <th>249</th>\n",
       "      <td>Community</td>\n",
       "      <td>2009–2015</td>\n",
       "      <td>110 eps</td>\n",
       "      <td>8.5</td>\n",
       "      <td>(300K)</td>\n",
       "    </tr>\n",
       "  </tbody>\n",
       "</table>\n",
       "<p>250 rows × 5 columns</p>\n",
       "</div>"
      ],
      "text/plain": [
       "                        Shows Name Release Year Episodes  Rating  \\\n",
       "0                     Breaking Bad    2008–2013   62 eps     9.5   \n",
       "1                  Planet Earth II         2016    6 eps     9.5   \n",
       "2                     Planet Earth         2006   11 eps     9.4   \n",
       "3                 Band of Brothers         2001   10 eps     9.4   \n",
       "4                        Chernobyl         2019    5 eps     9.3   \n",
       "..                             ...          ...      ...     ...   \n",
       "245                          Umbre    2014–2019   21 eps     8.7   \n",
       "246                    Foyle's War    2002–2015   28 eps     8.6   \n",
       "247                        Gintama    2005–2021  375 eps     8.7   \n",
       "248  The Great British Baking Show        2010–  189 eps     8.6   \n",
       "249                      Community    2009–2015  110 eps     8.5   \n",
       "\n",
       "    Rating given by people  \n",
       "0                   (2.2M)  \n",
       "1                   (163K)  \n",
       "2                   (224K)  \n",
       "3                   (547K)  \n",
       "4                   (912K)  \n",
       "..                     ...  \n",
       "245                  (12K)  \n",
       "246                  (19K)  \n",
       "247                  (17K)  \n",
       "248                  (13K)  \n",
       "249                 (300K)  \n",
       "\n",
       "[250 rows x 5 columns]"
      ]
     },
     "execution_count": 12,
     "metadata": {},
     "output_type": "execute_result"
    }
   ],
   "source": [
    "data"
   ]
  },
  {
   "cell_type": "code",
   "execution_count": 14,
   "id": "fefd594a-cde3-4150-9169-186923f8a00d",
   "metadata": {},
   "outputs": [
    {
     "data": {
      "text/html": [
       "<div>\n",
       "<style scoped>\n",
       "    .dataframe tbody tr th:only-of-type {\n",
       "        vertical-align: middle;\n",
       "    }\n",
       "\n",
       "    .dataframe tbody tr th {\n",
       "        vertical-align: top;\n",
       "    }\n",
       "\n",
       "    .dataframe thead th {\n",
       "        text-align: right;\n",
       "    }\n",
       "</style>\n",
       "<table border=\"1\" class=\"dataframe\">\n",
       "  <thead>\n",
       "    <tr style=\"text-align: right;\">\n",
       "      <th></th>\n",
       "      <th>Shows Name</th>\n",
       "      <th>Release Year</th>\n",
       "      <th>Episodes</th>\n",
       "      <th>Rating</th>\n",
       "      <th>Rating given by people</th>\n",
       "    </tr>\n",
       "  </thead>\n",
       "  <tbody>\n",
       "    <tr>\n",
       "      <th>0</th>\n",
       "      <td>Breaking Bad</td>\n",
       "      <td>2008–2013</td>\n",
       "      <td>62 eps</td>\n",
       "      <td>9.5</td>\n",
       "      <td>(2.2M)</td>\n",
       "    </tr>\n",
       "    <tr>\n",
       "      <th>1</th>\n",
       "      <td>Planet Earth II</td>\n",
       "      <td>2016</td>\n",
       "      <td>6 eps</td>\n",
       "      <td>9.5</td>\n",
       "      <td>(163K)</td>\n",
       "    </tr>\n",
       "    <tr>\n",
       "      <th>2</th>\n",
       "      <td>Planet Earth</td>\n",
       "      <td>2006</td>\n",
       "      <td>11 eps</td>\n",
       "      <td>9.4</td>\n",
       "      <td>(224K)</td>\n",
       "    </tr>\n",
       "    <tr>\n",
       "      <th>3</th>\n",
       "      <td>Band of Brothers</td>\n",
       "      <td>2001</td>\n",
       "      <td>10 eps</td>\n",
       "      <td>9.4</td>\n",
       "      <td>(547K)</td>\n",
       "    </tr>\n",
       "    <tr>\n",
       "      <th>4</th>\n",
       "      <td>Chernobyl</td>\n",
       "      <td>2019</td>\n",
       "      <td>5 eps</td>\n",
       "      <td>9.3</td>\n",
       "      <td>(912K)</td>\n",
       "    </tr>\n",
       "  </tbody>\n",
       "</table>\n",
       "</div>"
      ],
      "text/plain": [
       "         Shows Name Release Year Episodes  Rating Rating given by people\n",
       "0      Breaking Bad    2008–2013   62 eps     9.5                 (2.2M)\n",
       "1   Planet Earth II         2016    6 eps     9.5                 (163K)\n",
       "2      Planet Earth         2006   11 eps     9.4                 (224K)\n",
       "3  Band of Brothers         2001   10 eps     9.4                 (547K)\n",
       "4         Chernobyl         2019    5 eps     9.3                 (912K)"
      ]
     },
     "execution_count": 14,
     "metadata": {},
     "output_type": "execute_result"
    }
   ],
   "source": [
    "data.head()"
   ]
  },
  {
   "cell_type": "code",
   "execution_count": 16,
   "id": "128487bf-67e4-4b0c-a638-b618be6b46ae",
   "metadata": {},
   "outputs": [
    {
     "data": {
      "text/html": [
       "<div>\n",
       "<style scoped>\n",
       "    .dataframe tbody tr th:only-of-type {\n",
       "        vertical-align: middle;\n",
       "    }\n",
       "\n",
       "    .dataframe tbody tr th {\n",
       "        vertical-align: top;\n",
       "    }\n",
       "\n",
       "    .dataframe thead th {\n",
       "        text-align: right;\n",
       "    }\n",
       "</style>\n",
       "<table border=\"1\" class=\"dataframe\">\n",
       "  <thead>\n",
       "    <tr style=\"text-align: right;\">\n",
       "      <th></th>\n",
       "      <th>Shows Name</th>\n",
       "      <th>Release Year</th>\n",
       "      <th>Episodes</th>\n",
       "      <th>Rating</th>\n",
       "      <th>Rating given by people</th>\n",
       "    </tr>\n",
       "  </thead>\n",
       "  <tbody>\n",
       "    <tr>\n",
       "      <th>245</th>\n",
       "      <td>Umbre</td>\n",
       "      <td>2014–2019</td>\n",
       "      <td>21 eps</td>\n",
       "      <td>8.7</td>\n",
       "      <td>(12K)</td>\n",
       "    </tr>\n",
       "    <tr>\n",
       "      <th>246</th>\n",
       "      <td>Foyle's War</td>\n",
       "      <td>2002–2015</td>\n",
       "      <td>28 eps</td>\n",
       "      <td>8.6</td>\n",
       "      <td>(19K)</td>\n",
       "    </tr>\n",
       "    <tr>\n",
       "      <th>247</th>\n",
       "      <td>Gintama</td>\n",
       "      <td>2005–2021</td>\n",
       "      <td>375 eps</td>\n",
       "      <td>8.7</td>\n",
       "      <td>(17K)</td>\n",
       "    </tr>\n",
       "    <tr>\n",
       "      <th>248</th>\n",
       "      <td>The Great British Baking Show</td>\n",
       "      <td>2010–</td>\n",
       "      <td>189 eps</td>\n",
       "      <td>8.6</td>\n",
       "      <td>(13K)</td>\n",
       "    </tr>\n",
       "    <tr>\n",
       "      <th>249</th>\n",
       "      <td>Community</td>\n",
       "      <td>2009–2015</td>\n",
       "      <td>110 eps</td>\n",
       "      <td>8.5</td>\n",
       "      <td>(300K)</td>\n",
       "    </tr>\n",
       "  </tbody>\n",
       "</table>\n",
       "</div>"
      ],
      "text/plain": [
       "                        Shows Name Release Year Episodes  Rating  \\\n",
       "245                          Umbre    2014–2019   21 eps     8.7   \n",
       "246                    Foyle's War    2002–2015   28 eps     8.6   \n",
       "247                        Gintama    2005–2021  375 eps     8.7   \n",
       "248  The Great British Baking Show        2010–  189 eps     8.6   \n",
       "249                      Community    2009–2015  110 eps     8.5   \n",
       "\n",
       "    Rating given by people  \n",
       "245                  (12K)  \n",
       "246                  (19K)  \n",
       "247                  (17K)  \n",
       "248                  (13K)  \n",
       "249                 (300K)  "
      ]
     },
     "execution_count": 16,
     "metadata": {},
     "output_type": "execute_result"
    }
   ],
   "source": [
    "data.tail()"
   ]
  },
  {
   "cell_type": "code",
   "execution_count": 20,
   "id": "4aecbe07-19fe-4907-9751-b1602a7820df",
   "metadata": {},
   "outputs": [
    {
     "data": {
      "text/plain": [
       "(250, 5)"
      ]
     },
     "execution_count": 20,
     "metadata": {},
     "output_type": "execute_result"
    }
   ],
   "source": [
    "data.shape"
   ]
  },
  {
   "cell_type": "code",
   "execution_count": 22,
   "id": "c9baf9a7-c127-44e8-bffd-a5f26491c383",
   "metadata": {},
   "outputs": [
    {
     "data": {
      "text/html": [
       "<div>\n",
       "<style scoped>\n",
       "    .dataframe tbody tr th:only-of-type {\n",
       "        vertical-align: middle;\n",
       "    }\n",
       "\n",
       "    .dataframe tbody tr th {\n",
       "        vertical-align: top;\n",
       "    }\n",
       "\n",
       "    .dataframe thead th {\n",
       "        text-align: right;\n",
       "    }\n",
       "</style>\n",
       "<table border=\"1\" class=\"dataframe\">\n",
       "  <thead>\n",
       "    <tr style=\"text-align: right;\">\n",
       "      <th></th>\n",
       "      <th>Rating</th>\n",
       "    </tr>\n",
       "  </thead>\n",
       "  <tbody>\n",
       "    <tr>\n",
       "      <th>count</th>\n",
       "      <td>250.00000</td>\n",
       "    </tr>\n",
       "    <tr>\n",
       "      <th>mean</th>\n",
       "      <td>8.75640</td>\n",
       "    </tr>\n",
       "    <tr>\n",
       "      <th>std</th>\n",
       "      <td>0.22365</td>\n",
       "    </tr>\n",
       "    <tr>\n",
       "      <th>min</th>\n",
       "      <td>8.50000</td>\n",
       "    </tr>\n",
       "    <tr>\n",
       "      <th>25%</th>\n",
       "      <td>8.60000</td>\n",
       "    </tr>\n",
       "    <tr>\n",
       "      <th>50%</th>\n",
       "      <td>8.70000</td>\n",
       "    </tr>\n",
       "    <tr>\n",
       "      <th>75%</th>\n",
       "      <td>8.90000</td>\n",
       "    </tr>\n",
       "    <tr>\n",
       "      <th>max</th>\n",
       "      <td>9.50000</td>\n",
       "    </tr>\n",
       "  </tbody>\n",
       "</table>\n",
       "</div>"
      ],
      "text/plain": [
       "          Rating\n",
       "count  250.00000\n",
       "mean     8.75640\n",
       "std      0.22365\n",
       "min      8.50000\n",
       "25%      8.60000\n",
       "50%      8.70000\n",
       "75%      8.90000\n",
       "max      9.50000"
      ]
     },
     "execution_count": 22,
     "metadata": {},
     "output_type": "execute_result"
    }
   ],
   "source": [
    "data.describe()"
   ]
  },
  {
   "cell_type": "markdown",
   "id": "9ef03b31-bb7c-454e-99c2-8f65e34441ad",
   "metadata": {},
   "source": [
    "iloc[]"
   ]
  },
  {
   "cell_type": "code",
   "execution_count": 24,
   "id": "30e04c34-e35f-4966-a6c6-3ece60c64a95",
   "metadata": {},
   "outputs": [
    {
     "data": {
      "text/html": [
       "<div>\n",
       "<style scoped>\n",
       "    .dataframe tbody tr th:only-of-type {\n",
       "        vertical-align: middle;\n",
       "    }\n",
       "\n",
       "    .dataframe tbody tr th {\n",
       "        vertical-align: top;\n",
       "    }\n",
       "\n",
       "    .dataframe thead th {\n",
       "        text-align: right;\n",
       "    }\n",
       "</style>\n",
       "<table border=\"1\" class=\"dataframe\">\n",
       "  <thead>\n",
       "    <tr style=\"text-align: right;\">\n",
       "      <th></th>\n",
       "      <th>Shows Name</th>\n",
       "      <th>Release Year</th>\n",
       "      <th>Episodes</th>\n",
       "    </tr>\n",
       "  </thead>\n",
       "  <tbody>\n",
       "    <tr>\n",
       "      <th>0</th>\n",
       "      <td>Breaking Bad</td>\n",
       "      <td>2008–2013</td>\n",
       "      <td>62 eps</td>\n",
       "    </tr>\n",
       "    <tr>\n",
       "      <th>1</th>\n",
       "      <td>Planet Earth II</td>\n",
       "      <td>2016</td>\n",
       "      <td>6 eps</td>\n",
       "    </tr>\n",
       "    <tr>\n",
       "      <th>2</th>\n",
       "      <td>Planet Earth</td>\n",
       "      <td>2006</td>\n",
       "      <td>11 eps</td>\n",
       "    </tr>\n",
       "    <tr>\n",
       "      <th>3</th>\n",
       "      <td>Band of Brothers</td>\n",
       "      <td>2001</td>\n",
       "      <td>10 eps</td>\n",
       "    </tr>\n",
       "  </tbody>\n",
       "</table>\n",
       "</div>"
      ],
      "text/plain": [
       "         Shows Name Release Year Episodes\n",
       "0      Breaking Bad    2008–2013   62 eps\n",
       "1   Planet Earth II         2016    6 eps\n",
       "2      Planet Earth         2006   11 eps\n",
       "3  Band of Brothers         2001   10 eps"
      ]
     },
     "execution_count": 24,
     "metadata": {},
     "output_type": "execute_result"
    }
   ],
   "source": [
    "data.iloc[0:4,0:3]"
   ]
  },
  {
   "cell_type": "code",
   "execution_count": 26,
   "id": "e08a038e-acef-46c6-b178-44dd84e86713",
   "metadata": {},
   "outputs": [
    {
     "data": {
      "text/html": [
       "<div>\n",
       "<style scoped>\n",
       "    .dataframe tbody tr th:only-of-type {\n",
       "        vertical-align: middle;\n",
       "    }\n",
       "\n",
       "    .dataframe tbody tr th {\n",
       "        vertical-align: top;\n",
       "    }\n",
       "\n",
       "    .dataframe thead th {\n",
       "        text-align: right;\n",
       "    }\n",
       "</style>\n",
       "<table border=\"1\" class=\"dataframe\">\n",
       "  <thead>\n",
       "    <tr style=\"text-align: right;\">\n",
       "      <th></th>\n",
       "      <th>Rating</th>\n",
       "      <th>Rating given by people</th>\n",
       "    </tr>\n",
       "  </thead>\n",
       "  <tbody>\n",
       "    <tr>\n",
       "      <th>40</th>\n",
       "      <td>8.9</td>\n",
       "      <td>(30K)</td>\n",
       "    </tr>\n",
       "    <tr>\n",
       "      <th>41</th>\n",
       "      <td>8.9</td>\n",
       "      <td>(147K)</td>\n",
       "    </tr>\n",
       "    <tr>\n",
       "      <th>42</th>\n",
       "      <td>8.9</td>\n",
       "      <td>(679K)</td>\n",
       "    </tr>\n",
       "    <tr>\n",
       "      <th>43</th>\n",
       "      <td>8.9</td>\n",
       "      <td>(435K)</td>\n",
       "    </tr>\n",
       "    <tr>\n",
       "      <th>44</th>\n",
       "      <td>9.0</td>\n",
       "      <td>(50K)</td>\n",
       "    </tr>\n",
       "    <tr>\n",
       "      <th>45</th>\n",
       "      <td>8.9</td>\n",
       "      <td>(41K)</td>\n",
       "    </tr>\n",
       "    <tr>\n",
       "      <th>46</th>\n",
       "      <td>9.0</td>\n",
       "      <td>(26K)</td>\n",
       "    </tr>\n",
       "    <tr>\n",
       "      <th>47</th>\n",
       "      <td>9.0</td>\n",
       "      <td>(16K)</td>\n",
       "    </tr>\n",
       "    <tr>\n",
       "      <th>48</th>\n",
       "      <td>9.0</td>\n",
       "      <td>(23K)</td>\n",
       "    </tr>\n",
       "    <tr>\n",
       "      <th>49</th>\n",
       "      <td>8.8</td>\n",
       "      <td>(144K)</td>\n",
       "    </tr>\n",
       "    <tr>\n",
       "      <th>50</th>\n",
       "      <td>8.9</td>\n",
       "      <td>(18K)</td>\n",
       "    </tr>\n",
       "    <tr>\n",
       "      <th>51</th>\n",
       "      <td>8.8</td>\n",
       "      <td>(98K)</td>\n",
       "    </tr>\n",
       "    <tr>\n",
       "      <th>52</th>\n",
       "      <td>8.9</td>\n",
       "      <td>(1.1M)</td>\n",
       "    </tr>\n",
       "    <tr>\n",
       "      <th>53</th>\n",
       "      <td>8.8</td>\n",
       "      <td>(298K)</td>\n",
       "    </tr>\n",
       "    <tr>\n",
       "      <th>54</th>\n",
       "      <td>8.8</td>\n",
       "      <td>(260K)</td>\n",
       "    </tr>\n",
       "    <tr>\n",
       "      <th>55</th>\n",
       "      <td>9.1</td>\n",
       "      <td>(74K)</td>\n",
       "    </tr>\n",
       "    <tr>\n",
       "      <th>56</th>\n",
       "      <td>8.9</td>\n",
       "      <td>(29K)</td>\n",
       "    </tr>\n",
       "    <tr>\n",
       "      <th>57</th>\n",
       "      <td>8.9</td>\n",
       "      <td>(89K)</td>\n",
       "    </tr>\n",
       "    <tr>\n",
       "      <th>58</th>\n",
       "      <td>9.0</td>\n",
       "      <td>(273K)</td>\n",
       "    </tr>\n",
       "    <tr>\n",
       "      <th>59</th>\n",
       "      <td>8.8</td>\n",
       "      <td>(81K)</td>\n",
       "    </tr>\n",
       "    <tr>\n",
       "      <th>60</th>\n",
       "      <td>8.8</td>\n",
       "      <td>(153K)</td>\n",
       "    </tr>\n",
       "    <tr>\n",
       "      <th>61</th>\n",
       "      <td>8.8</td>\n",
       "      <td>(35K)</td>\n",
       "    </tr>\n",
       "    <tr>\n",
       "      <th>62</th>\n",
       "      <td>8.8</td>\n",
       "      <td>(201K)</td>\n",
       "    </tr>\n",
       "    <tr>\n",
       "      <th>63</th>\n",
       "      <td>9.2</td>\n",
       "      <td>(52K)</td>\n",
       "    </tr>\n",
       "    <tr>\n",
       "      <th>64</th>\n",
       "      <td>8.8</td>\n",
       "      <td>(103K)</td>\n",
       "    </tr>\n",
       "    <tr>\n",
       "      <th>65</th>\n",
       "      <td>9.1</td>\n",
       "      <td>(98K)</td>\n",
       "    </tr>\n",
       "    <tr>\n",
       "      <th>66</th>\n",
       "      <td>8.8</td>\n",
       "      <td>(156K)</td>\n",
       "    </tr>\n",
       "    <tr>\n",
       "      <th>67</th>\n",
       "      <td>8.8</td>\n",
       "      <td>(59K)</td>\n",
       "    </tr>\n",
       "    <tr>\n",
       "      <th>68</th>\n",
       "      <td>8.8</td>\n",
       "      <td>(157K)</td>\n",
       "    </tr>\n",
       "    <tr>\n",
       "      <th>69</th>\n",
       "      <td>8.8</td>\n",
       "      <td>(95K)</td>\n",
       "    </tr>\n",
       "    <tr>\n",
       "      <th>70</th>\n",
       "      <td>9.0</td>\n",
       "      <td>(99K)</td>\n",
       "    </tr>\n",
       "    <tr>\n",
       "      <th>71</th>\n",
       "      <td>8.7</td>\n",
       "      <td>(223K)</td>\n",
       "    </tr>\n",
       "    <tr>\n",
       "      <th>72</th>\n",
       "      <td>8.8</td>\n",
       "      <td>(92K)</td>\n",
       "    </tr>\n",
       "    <tr>\n",
       "      <th>73</th>\n",
       "      <td>8.8</td>\n",
       "      <td>(74K)</td>\n",
       "    </tr>\n",
       "    <tr>\n",
       "      <th>74</th>\n",
       "      <td>8.7</td>\n",
       "      <td>(487K)</td>\n",
       "    </tr>\n",
       "    <tr>\n",
       "      <th>75</th>\n",
       "      <td>9.0</td>\n",
       "      <td>(51K)</td>\n",
       "    </tr>\n",
       "    <tr>\n",
       "      <th>76</th>\n",
       "      <td>9.1</td>\n",
       "      <td>(25K)</td>\n",
       "    </tr>\n",
       "    <tr>\n",
       "      <th>77</th>\n",
       "      <td>8.8</td>\n",
       "      <td>(87K)</td>\n",
       "    </tr>\n",
       "    <tr>\n",
       "      <th>78</th>\n",
       "      <td>8.8</td>\n",
       "      <td>(20K)</td>\n",
       "    </tr>\n",
       "    <tr>\n",
       "      <th>79</th>\n",
       "      <td>8.8</td>\n",
       "      <td>(39K)</td>\n",
       "    </tr>\n",
       "  </tbody>\n",
       "</table>\n",
       "</div>"
      ],
      "text/plain": [
       "    Rating Rating given by people\n",
       "40     8.9                  (30K)\n",
       "41     8.9                 (147K)\n",
       "42     8.9                 (679K)\n",
       "43     8.9                 (435K)\n",
       "44     9.0                  (50K)\n",
       "45     8.9                  (41K)\n",
       "46     9.0                  (26K)\n",
       "47     9.0                  (16K)\n",
       "48     9.0                  (23K)\n",
       "49     8.8                 (144K)\n",
       "50     8.9                  (18K)\n",
       "51     8.8                  (98K)\n",
       "52     8.9                 (1.1M)\n",
       "53     8.8                 (298K)\n",
       "54     8.8                 (260K)\n",
       "55     9.1                  (74K)\n",
       "56     8.9                  (29K)\n",
       "57     8.9                  (89K)\n",
       "58     9.0                 (273K)\n",
       "59     8.8                  (81K)\n",
       "60     8.8                 (153K)\n",
       "61     8.8                  (35K)\n",
       "62     8.8                 (201K)\n",
       "63     9.2                  (52K)\n",
       "64     8.8                 (103K)\n",
       "65     9.1                  (98K)\n",
       "66     8.8                 (156K)\n",
       "67     8.8                  (59K)\n",
       "68     8.8                 (157K)\n",
       "69     8.8                  (95K)\n",
       "70     9.0                  (99K)\n",
       "71     8.7                 (223K)\n",
       "72     8.8                  (92K)\n",
       "73     8.8                  (74K)\n",
       "74     8.7                 (487K)\n",
       "75     9.0                  (51K)\n",
       "76     9.1                  (25K)\n",
       "77     8.8                  (87K)\n",
       "78     8.8                  (20K)\n",
       "79     8.8                  (39K)"
      ]
     },
     "execution_count": 26,
     "metadata": {},
     "output_type": "execute_result"
    }
   ],
   "source": [
    "data.iloc[40:80,3:]"
   ]
  },
  {
   "cell_type": "code",
   "execution_count": 30,
   "id": "563a2b26-285c-4f53-aa37-c7241c1f1e9c",
   "metadata": {},
   "outputs": [
    {
     "data": {
      "text/html": [
       "<div>\n",
       "<style scoped>\n",
       "    .dataframe tbody tr th:only-of-type {\n",
       "        vertical-align: middle;\n",
       "    }\n",
       "\n",
       "    .dataframe tbody tr th {\n",
       "        vertical-align: top;\n",
       "    }\n",
       "\n",
       "    .dataframe thead th {\n",
       "        text-align: right;\n",
       "    }\n",
       "</style>\n",
       "<table border=\"1\" class=\"dataframe\">\n",
       "  <thead>\n",
       "    <tr style=\"text-align: right;\">\n",
       "      <th></th>\n",
       "      <th>Shows Name</th>\n",
       "      <th>Rating</th>\n",
       "    </tr>\n",
       "  </thead>\n",
       "  <tbody>\n",
       "    <tr>\n",
       "      <th>10</th>\n",
       "      <td>Cosmos</td>\n",
       "      <td>9.3</td>\n",
       "    </tr>\n",
       "    <tr>\n",
       "      <th>11</th>\n",
       "      <td>Our Planet</td>\n",
       "      <td>9.2</td>\n",
       "    </tr>\n",
       "    <tr>\n",
       "      <th>12</th>\n",
       "      <td>Game of Thrones</td>\n",
       "      <td>9.2</td>\n",
       "    </tr>\n",
       "    <tr>\n",
       "      <th>13</th>\n",
       "      <td>Bluey</td>\n",
       "      <td>9.3</td>\n",
       "    </tr>\n",
       "    <tr>\n",
       "      <th>14</th>\n",
       "      <td>The World at War</td>\n",
       "      <td>9.2</td>\n",
       "    </tr>\n",
       "    <tr>\n",
       "      <th>15</th>\n",
       "      <td>Fullmetal Alchemist: Brotherhood</td>\n",
       "      <td>9.1</td>\n",
       "    </tr>\n",
       "    <tr>\n",
       "      <th>16</th>\n",
       "      <td>Rick and Morty</td>\n",
       "      <td>9.1</td>\n",
       "    </tr>\n",
       "    <tr>\n",
       "      <th>17</th>\n",
       "      <td>Life</td>\n",
       "      <td>9.1</td>\n",
       "    </tr>\n",
       "    <tr>\n",
       "      <th>18</th>\n",
       "      <td>The Last Dance</td>\n",
       "      <td>9.0</td>\n",
       "    </tr>\n",
       "    <tr>\n",
       "      <th>19</th>\n",
       "      <td>The Twilight Zone</td>\n",
       "      <td>9.0</td>\n",
       "    </tr>\n",
       "    <tr>\n",
       "      <th>20</th>\n",
       "      <td>The Vietnam War</td>\n",
       "      <td>9.1</td>\n",
       "    </tr>\n",
       "  </tbody>\n",
       "</table>\n",
       "</div>"
      ],
      "text/plain": [
       "                          Shows Name  Rating\n",
       "10                            Cosmos     9.3\n",
       "11                        Our Planet     9.2\n",
       "12                   Game of Thrones     9.2\n",
       "13                             Bluey     9.3\n",
       "14                  The World at War     9.2\n",
       "15  Fullmetal Alchemist: Brotherhood     9.1\n",
       "16                    Rick and Morty     9.1\n",
       "17                              Life     9.1\n",
       "18                    The Last Dance     9.0\n",
       "19                 The Twilight Zone     9.0\n",
       "20                   The Vietnam War     9.1"
      ]
     },
     "execution_count": 30,
     "metadata": {},
     "output_type": "execute_result"
    }
   ],
   "source": [
    "data.loc[10:20,(\"Shows Name\",\"Rating\")]"
   ]
  },
  {
   "cell_type": "markdown",
   "id": "427b7cac-f436-48cb-83fb-c94642a547e3",
   "metadata": {},
   "source": [
    "Droping coloumn"
   ]
  },
  {
   "cell_type": "code",
   "execution_count": 34,
   "id": "35cd02b8-2ce5-473a-b2a9-ec21aa3e2721",
   "metadata": {},
   "outputs": [
    {
     "data": {
      "text/html": [
       "<div>\n",
       "<style scoped>\n",
       "    .dataframe tbody tr th:only-of-type {\n",
       "        vertical-align: middle;\n",
       "    }\n",
       "\n",
       "    .dataframe tbody tr th {\n",
       "        vertical-align: top;\n",
       "    }\n",
       "\n",
       "    .dataframe thead th {\n",
       "        text-align: right;\n",
       "    }\n",
       "</style>\n",
       "<table border=\"1\" class=\"dataframe\">\n",
       "  <thead>\n",
       "    <tr style=\"text-align: right;\">\n",
       "      <th></th>\n",
       "      <th>Shows Name</th>\n",
       "      <th>Release Year</th>\n",
       "      <th>Rating</th>\n",
       "      <th>Rating given by people</th>\n",
       "    </tr>\n",
       "  </thead>\n",
       "  <tbody>\n",
       "    <tr>\n",
       "      <th>0</th>\n",
       "      <td>Breaking Bad</td>\n",
       "      <td>2008–2013</td>\n",
       "      <td>9.5</td>\n",
       "      <td>(2.2M)</td>\n",
       "    </tr>\n",
       "    <tr>\n",
       "      <th>1</th>\n",
       "      <td>Planet Earth II</td>\n",
       "      <td>2016</td>\n",
       "      <td>9.5</td>\n",
       "      <td>(163K)</td>\n",
       "    </tr>\n",
       "    <tr>\n",
       "      <th>2</th>\n",
       "      <td>Planet Earth</td>\n",
       "      <td>2006</td>\n",
       "      <td>9.4</td>\n",
       "      <td>(224K)</td>\n",
       "    </tr>\n",
       "    <tr>\n",
       "      <th>3</th>\n",
       "      <td>Band of Brothers</td>\n",
       "      <td>2001</td>\n",
       "      <td>9.4</td>\n",
       "      <td>(547K)</td>\n",
       "    </tr>\n",
       "    <tr>\n",
       "      <th>4</th>\n",
       "      <td>Chernobyl</td>\n",
       "      <td>2019</td>\n",
       "      <td>9.3</td>\n",
       "      <td>(912K)</td>\n",
       "    </tr>\n",
       "    <tr>\n",
       "      <th>...</th>\n",
       "      <td>...</td>\n",
       "      <td>...</td>\n",
       "      <td>...</td>\n",
       "      <td>...</td>\n",
       "    </tr>\n",
       "    <tr>\n",
       "      <th>245</th>\n",
       "      <td>Umbre</td>\n",
       "      <td>2014–2019</td>\n",
       "      <td>8.7</td>\n",
       "      <td>(12K)</td>\n",
       "    </tr>\n",
       "    <tr>\n",
       "      <th>246</th>\n",
       "      <td>Foyle's War</td>\n",
       "      <td>2002–2015</td>\n",
       "      <td>8.6</td>\n",
       "      <td>(19K)</td>\n",
       "    </tr>\n",
       "    <tr>\n",
       "      <th>247</th>\n",
       "      <td>Gintama</td>\n",
       "      <td>2005–2021</td>\n",
       "      <td>8.7</td>\n",
       "      <td>(17K)</td>\n",
       "    </tr>\n",
       "    <tr>\n",
       "      <th>248</th>\n",
       "      <td>The Great British Baking Show</td>\n",
       "      <td>2010–</td>\n",
       "      <td>8.6</td>\n",
       "      <td>(13K)</td>\n",
       "    </tr>\n",
       "    <tr>\n",
       "      <th>249</th>\n",
       "      <td>Community</td>\n",
       "      <td>2009–2015</td>\n",
       "      <td>8.5</td>\n",
       "      <td>(300K)</td>\n",
       "    </tr>\n",
       "  </tbody>\n",
       "</table>\n",
       "<p>250 rows × 4 columns</p>\n",
       "</div>"
      ],
      "text/plain": [
       "                        Shows Name Release Year  Rating Rating given by people\n",
       "0                     Breaking Bad    2008–2013     9.5                 (2.2M)\n",
       "1                  Planet Earth II         2016     9.5                 (163K)\n",
       "2                     Planet Earth         2006     9.4                 (224K)\n",
       "3                 Band of Brothers         2001     9.4                 (547K)\n",
       "4                        Chernobyl         2019     9.3                 (912K)\n",
       "..                             ...          ...     ...                    ...\n",
       "245                          Umbre    2014–2019     8.7                  (12K)\n",
       "246                    Foyle's War    2002–2015     8.6                  (19K)\n",
       "247                        Gintama    2005–2021     8.7                  (17K)\n",
       "248  The Great British Baking Show        2010–     8.6                  (13K)\n",
       "249                      Community    2009–2015     8.5                 (300K)\n",
       "\n",
       "[250 rows x 4 columns]"
      ]
     },
     "execution_count": 34,
     "metadata": {},
     "output_type": "execute_result"
    }
   ],
   "source": [
    "data.drop(\"Episodes\",axis=1)"
   ]
  },
  {
   "cell_type": "code",
   "execution_count": 36,
   "id": "d4ef4e97-624a-4e31-bf41-a062bda86b97",
   "metadata": {},
   "outputs": [
    {
     "data": {
      "text/html": [
       "<div>\n",
       "<style scoped>\n",
       "    .dataframe tbody tr th:only-of-type {\n",
       "        vertical-align: middle;\n",
       "    }\n",
       "\n",
       "    .dataframe tbody tr th {\n",
       "        vertical-align: top;\n",
       "    }\n",
       "\n",
       "    .dataframe thead th {\n",
       "        text-align: right;\n",
       "    }\n",
       "</style>\n",
       "<table border=\"1\" class=\"dataframe\">\n",
       "  <thead>\n",
       "    <tr style=\"text-align: right;\">\n",
       "      <th></th>\n",
       "      <th>Shows Name</th>\n",
       "      <th>Release Year</th>\n",
       "      <th>Episodes</th>\n",
       "      <th>Rating</th>\n",
       "      <th>Rating given by people</th>\n",
       "    </tr>\n",
       "  </thead>\n",
       "  <tbody>\n",
       "    <tr>\n",
       "      <th>0</th>\n",
       "      <td>Breaking Bad</td>\n",
       "      <td>2008–2013</td>\n",
       "      <td>62 eps</td>\n",
       "      <td>9.5</td>\n",
       "      <td>(2.2M)</td>\n",
       "    </tr>\n",
       "    <tr>\n",
       "      <th>4</th>\n",
       "      <td>Chernobyl</td>\n",
       "      <td>2019</td>\n",
       "      <td>5 eps</td>\n",
       "      <td>9.3</td>\n",
       "      <td>(912K)</td>\n",
       "    </tr>\n",
       "    <tr>\n",
       "      <th>5</th>\n",
       "      <td>The Wire</td>\n",
       "      <td>2002–2008</td>\n",
       "      <td>60 eps</td>\n",
       "      <td>9.3</td>\n",
       "      <td>(392K)</td>\n",
       "    </tr>\n",
       "    <tr>\n",
       "      <th>6</th>\n",
       "      <td>Avatar: The Last Airbender</td>\n",
       "      <td>2005–2008</td>\n",
       "      <td>62 eps</td>\n",
       "      <td>9.3</td>\n",
       "      <td>(392K)</td>\n",
       "    </tr>\n",
       "    <tr>\n",
       "      <th>7</th>\n",
       "      <td>Blue Planet II</td>\n",
       "      <td>2017</td>\n",
       "      <td>7 eps</td>\n",
       "      <td>9.3</td>\n",
       "      <td>(49K)</td>\n",
       "    </tr>\n",
       "    <tr>\n",
       "      <th>...</th>\n",
       "      <td>...</td>\n",
       "      <td>...</td>\n",
       "      <td>...</td>\n",
       "      <td>...</td>\n",
       "      <td>...</td>\n",
       "    </tr>\n",
       "    <tr>\n",
       "      <th>245</th>\n",
       "      <td>Umbre</td>\n",
       "      <td>2014–2019</td>\n",
       "      <td>21 eps</td>\n",
       "      <td>8.7</td>\n",
       "      <td>(12K)</td>\n",
       "    </tr>\n",
       "    <tr>\n",
       "      <th>246</th>\n",
       "      <td>Foyle's War</td>\n",
       "      <td>2002–2015</td>\n",
       "      <td>28 eps</td>\n",
       "      <td>8.6</td>\n",
       "      <td>(19K)</td>\n",
       "    </tr>\n",
       "    <tr>\n",
       "      <th>247</th>\n",
       "      <td>Gintama</td>\n",
       "      <td>2005–2021</td>\n",
       "      <td>375 eps</td>\n",
       "      <td>8.7</td>\n",
       "      <td>(17K)</td>\n",
       "    </tr>\n",
       "    <tr>\n",
       "      <th>248</th>\n",
       "      <td>The Great British Baking Show</td>\n",
       "      <td>2010–</td>\n",
       "      <td>189 eps</td>\n",
       "      <td>8.6</td>\n",
       "      <td>(13K)</td>\n",
       "    </tr>\n",
       "    <tr>\n",
       "      <th>249</th>\n",
       "      <td>Community</td>\n",
       "      <td>2009–2015</td>\n",
       "      <td>110 eps</td>\n",
       "      <td>8.5</td>\n",
       "      <td>(300K)</td>\n",
       "    </tr>\n",
       "  </tbody>\n",
       "</table>\n",
       "<p>247 rows × 5 columns</p>\n",
       "</div>"
      ],
      "text/plain": [
       "                        Shows Name Release Year Episodes  Rating  \\\n",
       "0                     Breaking Bad    2008–2013   62 eps     9.5   \n",
       "4                        Chernobyl         2019    5 eps     9.3   \n",
       "5                         The Wire    2002–2008   60 eps     9.3   \n",
       "6       Avatar: The Last Airbender    2005–2008   62 eps     9.3   \n",
       "7                   Blue Planet II         2017    7 eps     9.3   \n",
       "..                             ...          ...      ...     ...   \n",
       "245                          Umbre    2014–2019   21 eps     8.7   \n",
       "246                    Foyle's War    2002–2015   28 eps     8.6   \n",
       "247                        Gintama    2005–2021  375 eps     8.7   \n",
       "248  The Great British Baking Show        2010–  189 eps     8.6   \n",
       "249                      Community    2009–2015  110 eps     8.5   \n",
       "\n",
       "    Rating given by people  \n",
       "0                   (2.2M)  \n",
       "4                   (912K)  \n",
       "5                   (392K)  \n",
       "6                   (392K)  \n",
       "7                    (49K)  \n",
       "..                     ...  \n",
       "245                  (12K)  \n",
       "246                  (19K)  \n",
       "247                  (17K)  \n",
       "248                  (13K)  \n",
       "249                 (300K)  \n",
       "\n",
       "[247 rows x 5 columns]"
      ]
     },
     "execution_count": 36,
     "metadata": {},
     "output_type": "execute_result"
    }
   ],
   "source": [
    "data.drop([1,2,3],axis=0)"
   ]
  },
  {
   "cell_type": "code",
   "execution_count": 40,
   "id": "9e548eae-4fb9-436e-b079-6e98d8743ee8",
   "metadata": {},
   "outputs": [
    {
     "data": {
      "text/plain": [
       "<Axes: ylabel='Frequency'>"
      ]
     },
     "execution_count": 40,
     "metadata": {},
     "output_type": "execute_result"
    },
    {
     "data": {
      "image/png": "[encoded data removed]",
      "text/plain": [
       "<Figure size 640x480 with 1 Axes>"
      ]
     },
     "metadata": {},
     "output_type": "display_data"
    }
   ],
   "source": [
    "data.plot(kind=\"hist\")"
   ]
  },
  {
   "cell_type": "markdown",
   "id": "9291edf7-5715-4e89-8b3d-e7750ccd4c2b",
   "metadata": {},
   "source": [
    "Indexing"
   ]
  },
  {
   "cell_type": "code",
   "execution_count": 48,
   "id": "c5924b3c-df7d-403a-897f-885a2b615777",
   "metadata": {},
   "outputs": [
    {
     "data": {
      "text/plain": [
       "0    1\n",
       "1    2\n",
       "2    3\n",
       "3    4\n",
       "4    5\n",
       "dtype: int64"
      ]
     },
     "execution_count": 48,
     "metadata": {},
     "output_type": "execute_result"
    }
   ],
   "source": [
    "s1=pd.Series([1,2,3,4,5])\n",
    "s1"
   ]
  },
  {
   "cell_type": "code",
   "execution_count": 50,
   "id": "9d82a24d-c739-4cf1-914d-880bf85edf3f",
   "metadata": {},
   "outputs": [
    {
     "data": {
      "text/plain": [
       "pandas.core.series.Series"
      ]
     },
     "execution_count": 50,
     "metadata": {},
     "output_type": "execute_result"
    }
   ],
   "source": [
    "type(s1)"
   ]
  },
  {
   "cell_type": "code",
   "execution_count": 52,
   "id": "df050875-7c33-44d6-aabd-dadfb4f430a2",
   "metadata": {},
   "outputs": [
    {
     "data": {
      "text/plain": [
       "a    1\n",
       "b    2\n",
       "c    3\n",
       "d    4\n",
       "e    5\n",
       "dtype: int64"
      ]
     },
     "execution_count": 52,
     "metadata": {},
     "output_type": "execute_result"
    }
   ],
   "source": [
    "s1=pd.Series([1,2,3,4,5],index=['a','b','c','d','e'])\n",
    "s1"
   ]
  },
  {
   "cell_type": "code",
   "execution_count": 56,
   "id": "7fea36cc-3a64-463f-b479-58b327d0c4c8",
   "metadata": {},
   "outputs": [
    {
     "data": {
      "text/plain": [
       "{'a': 10, 'b': 20, 'c': 30}"
      ]
     },
     "execution_count": 56,
     "metadata": {},
     "output_type": "execute_result"
    }
   ],
   "source": [
    "s1=({'a':10,'b':20,'c':30})\n",
    "s1"
   ]
  },
  {
   "cell_type": "code",
   "execution_count": 58,
   "id": "e75dc8b2-b5cf-400b-bd5e-2882b232f4e0",
   "metadata": {},
   "outputs": [
    {
     "data": {
      "text/plain": [
       "a    10\n",
       "b    20\n",
       "c    30\n",
       "dtype: int64"
      ]
     },
     "execution_count": 58,
     "metadata": {},
     "output_type": "execute_result"
    }
   ],
   "source": [
    "pd.Series(s1)"
   ]
  },
  {
   "cell_type": "code",
   "execution_count": 64,
   "id": "12d74b2a-2f12-457c-9e96-419993b5205c",
   "metadata": {},
   "outputs": [
    {
     "data": {
      "text/plain": [
       "b    20.0\n",
       "c    30.0\n",
       "d     NaN\n",
       "a    10.0\n",
       "dtype: float64"
      ]
     },
     "execution_count": 64,
     "metadata": {},
     "output_type": "execute_result"
    }
   ],
   "source": [
    "pd.Series({'a':10,'b':20,'c':30}, index=['b','c','d','a'])"
   ]
  },
  {
   "cell_type": "markdown",
   "id": "4aa6cd5d-dee4-417e-a613-8d14e6b8f383",
   "metadata": {},
   "source": [
    "Extracting individual element"
   ]
  },
  {
   "cell_type": "code",
   "execution_count": 69,
   "id": "49d20554-8d7e-4176-807d-e3b8159f927c",
   "metadata": {},
   "outputs": [
    {
     "data": {
      "text/plain": [
       "5"
      ]
     },
     "execution_count": 69,
     "metadata": {},
     "output_type": "execute_result"
    }
   ],
   "source": [
    "s2=pd.Series([1,2,3,4,5,6,7,8])\n",
    "s2[4]"
   ]
  },
  {
   "cell_type": "code",
   "execution_count": 72,
   "id": "24c4bb2a-e6cc-42c9-88a6-371a6a188075",
   "metadata": {},
   "outputs": [
    {
     "data": {
      "text/plain": [
       "5    6\n",
       "6    7\n",
       "7    8\n",
       "dtype: int64"
      ]
     },
     "execution_count": 72,
     "metadata": {},
     "output_type": "execute_result"
    }
   ],
   "source": [
    "s2[-3:]"
   ]
  },
  {
   "cell_type": "code",
   "execution_count": 74,
   "id": "9b47eb9f-94ae-4594-b978-9e8e4877949a",
   "metadata": {},
   "outputs": [
    {
     "data": {
      "text/plain": [
       "0    1\n",
       "1    2\n",
       "2    3\n",
       "3    4\n",
       "dtype: int64"
      ]
     },
     "execution_count": 74,
     "metadata": {},
     "output_type": "execute_result"
    }
   ],
   "source": [
    "s2[:4]"
   ]
  },
  {
   "cell_type": "code",
   "execution_count": 76,
   "id": "96a819c5-829e-461b-8ed8-a5bf4b18229d",
   "metadata": {},
   "outputs": [
    {
     "data": {
      "text/plain": [
       "0     6\n",
       "1     7\n",
       "2     8\n",
       "3     9\n",
       "4    10\n",
       "5    11\n",
       "6    12\n",
       "7    13\n",
       "dtype: int64"
      ]
     },
     "execution_count": 76,
     "metadata": {},
     "output_type": "execute_result"
    }
   ],
   "source": [
    "s2+5"
   ]
  },
  {
   "cell_type": "code",
   "execution_count": 88,
   "id": "1671c626-c9d4-4f55-b6ec-c26ca0f44ffd",
   "metadata": {},
   "outputs": [
    {
     "data": {
      "text/plain": [
       "0    10\n",
       "1    20\n",
       "2    30\n",
       "3    40\n",
       "4    50\n",
       "5    60\n",
       "6    70\n",
       "7    80\n",
       "dtype: int64"
      ]
     },
     "execution_count": 88,
     "metadata": {},
     "output_type": "execute_result"
    }
   ],
   "source": [
    "s3=pd.Series([10,20,30,40,50,60,70,80])\n",
    "s3"
   ]
  },
  {
   "cell_type": "code",
   "execution_count": 90,
   "id": "9308ce2d-c862-47e3-a241-fbbf6d5434a2",
   "metadata": {},
   "outputs": [
    {
     "data": {
      "text/plain": [
       "0    11\n",
       "1    22\n",
       "2    33\n",
       "3    44\n",
       "4    55\n",
       "5    66\n",
       "6    77\n",
       "7    88\n",
       "dtype: int64"
      ]
     },
     "execution_count": 90,
     "metadata": {},
     "output_type": "execute_result"
    }
   ],
   "source": [
    "s2+s3"
   ]
  },
  {
   "cell_type": "code",
   "execution_count": null,
   "id": "98c76b9b-8315-4496-9c10-fc75ab270293",
   "metadata": {},
   "outputs": [],
   "source": []
  }
 ],
 "metadata": {
  "kernelspec": {
   "display_name": "Python 3 (ipykernel)",
   "language": "python",
   "name": "python3"
  },
  "language_info": {
   "codemirror_mode": {
    "name": "ipython",
    "version": 3
   },
   "file_extension": ".py",
   "mimetype": "text/x-python",
   "name": "python",
   "nbconvert_exporter": "python",
   "pygments_lexer": "ipython3",
   "version": "3.12.4"
  }
 },
 "nbformat": 4,
 "nbformat_minor": 5
}
