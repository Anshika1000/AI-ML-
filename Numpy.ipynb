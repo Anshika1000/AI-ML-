{
 "cells": [
  {
   "cell_type": "markdown",
   "id": "7c91a42f-537b-4f14-b6c5-3cb8a5da4a1a",
   "metadata": {},
   "source": [
    "Array"
   ]
  },
  {
   "cell_type": "code",
   "execution_count": 12,
   "id": "1fe90966-bb92-491d-a6a2-9651fe33d60f",
   "metadata": {},
   "outputs": [
    {
     "name": "stdout",
     "output_type": "stream",
     "text": [
      "[5 6 6]\n",
      "<class 'numpy.ndarray'>\n"
     ]
    }
   ],
   "source": [
    "import numpy as np\n",
    "a=np.array([5,6,6])\n",
    "\n",
    "print(a)\n",
    "print(type(a))"
   ]
  },
  {
   "cell_type": "code",
   "execution_count": 14,
   "id": "f7bf5788-c59b-4edf-bbf8-fd4d26ddb1b6",
   "metadata": {},
   "outputs": [
    {
     "data": {
      "text/plain": [
       "array([5, 6, 6])"
      ]
     },
     "execution_count": 14,
     "metadata": {},
     "output_type": "execute_result"
    }
   ],
   "source": [
    "import numpy as np\n",
    "a=np.array([5,6,6])\n",
    "a"
   ]
  },
  {
   "cell_type": "code",
   "execution_count": 16,
   "id": "8e55083f-add9-4064-bcb8-3c3343180ce1",
   "metadata": {},
   "outputs": [
    {
     "name": "stdout",
     "output_type": "stream",
     "text": [
      "[4 3 6 8]\n",
      "1\n"
     ]
    }
   ],
   "source": [
    "import numpy as np\n",
    "a=[4,3,6,8]\n",
    "b=np.array(a)\n",
    "print(b)\n",
    "print(b.ndim)"
   ]
  },
  {
   "cell_type": "code",
   "execution_count": 22,
   "id": "ac9c94dd-b1fb-492b-b44b-0db6f43a0eb6",
   "metadata": {},
   "outputs": [
    {
     "name": "stdin",
     "output_type": "stream",
     "text": [
      "enter: 1\n",
      "enter: 23\n",
      "enter: 2\n",
      "enter: 3\n"
     ]
    },
    {
     "name": "stdout",
     "output_type": "stream",
     "text": [
      "[ 1 23  2  3]\n"
     ]
    }
   ],
   "source": [
    "l=[]\n",
    "for i in range(1,5):\n",
    "    int_1=int(input(\"enter:\"))\n",
    "    l.append(int_1)\n",
    "print(np.array(l))"
   ]
  },
  {
   "cell_type": "code",
   "execution_count": 24,
   "id": "47055951-4bcb-48a0-9095-fe54e998fb8c",
   "metadata": {},
   "outputs": [
    {
     "name": "stdout",
     "output_type": "stream",
     "text": [
      "[[1 3 4 5]\n",
      " [4 5 6 7]\n",
      " [7 0 9 8]]\n",
      "2\n"
     ]
    }
   ],
   "source": [
    "arr=np.array([[1,3,4,5],[4,5,6,7],[7,0,9,8]])\n",
    "print(arr)\n",
    "print(arr.ndim)"
   ]
  },
  {
   "cell_type": "code",
   "execution_count": 26,
   "id": "e53df1c5-cbd2-4c88-9e5a-5bc0ad5ec456",
   "metadata": {},
   "outputs": [
    {
     "name": "stdout",
     "output_type": "stream",
     "text": [
      "[[[[[[[[[[1 2 3 4]]]]]]]]]]\n",
      "10\n"
     ]
    }
   ],
   "source": [
    "arr=np.array([1,2,3,4], ndmin=10)\n",
    "print(arr)\n",
    "print(arr.ndim)"
   ]
  },
  {
   "cell_type": "markdown",
   "id": "b0cb2590-48ce-424d-8d48-b0673189b8c3",
   "metadata": {},
   "source": [
    "Random\n"
   ]
  },
  {
   "cell_type": "markdown",
   "id": "f10a5d61-3221-484b-a178-0bb3cb294f49",
   "metadata": {},
   "source": [
    " Rand()"
   ]
  },
  {
   "cell_type": "code",
   "execution_count": 42,
   "id": "68a3319a-fd46-4341-9a48-3f6284b08465",
   "metadata": {},
   "outputs": [
    {
     "name": "stdout",
     "output_type": "stream",
     "text": [
      "[0.32765415 0.52138552 0.67708283 0.69348548]\n"
     ]
    }
   ],
   "source": [
    "import numpy as np\n",
    "var= np.random.rand(4)\n",
    "print(var)\n"
   ]
  },
  {
   "cell_type": "code",
   "execution_count": 40,
   "id": "4185595d-4015-4d2c-bd1c-b32355f036bb",
   "metadata": {},
   "outputs": [
    {
     "name": "stdout",
     "output_type": "stream",
     "text": [
      "[[0.89605245 0.60727753 0.270534   0.41244975 0.34148069]\n",
      " [0.10563066 0.24759911 0.16094842 0.76798774 0.59050491]]\n"
     ]
    }
   ],
   "source": [
    "var1= np.random.rand(2,5)\n",
    "print(var1)"
   ]
  },
  {
   "cell_type": "markdown",
   "id": "99a55837-6be8-4410-b56c-55f5d79d7782",
   "metadata": {},
   "source": [
    "randn()"
   ]
  },
  {
   "cell_type": "code",
   "execution_count": 45,
   "id": "6c92531f-768e-45af-a59f-b411581a035c",
   "metadata": {},
   "outputs": [
    {
     "name": "stdout",
     "output_type": "stream",
     "text": [
      "[-0.70880212  1.11718977 -1.6442842   1.12306217 -0.84606876]\n"
     ]
    }
   ],
   "source": [
    "var2= np.random.randn(5)\n",
    "print(var2)"
   ]
  },
  {
   "cell_type": "code",
   "execution_count": 47,
   "id": "43ab38ba-b4ee-4046-93a9-2b92ee9427f6",
   "metadata": {},
   "outputs": [
    {
     "name": "stdout",
     "output_type": "stream",
     "text": [
      "[[-1.90442312 -1.68346214  1.1338975   1.53570696  1.823386  ]\n",
      " [ 0.08898704 -2.06922613  0.50199216  1.27711702  0.33978113]]\n"
     ]
    }
   ],
   "source": [
    "var3=np.random.randn(2,5)\n",
    "print(var3)"
   ]
  },
  {
   "cell_type": "markdown",
   "id": "c7825be0-c06b-4321-adf7-daa06312ec0d",
   "metadata": {},
   "source": [
    "ranf()\n"
   ]
  },
  {
   "cell_type": "code",
   "execution_count": 50,
   "id": "b6bd5a9a-0ce3-422c-98ab-dddad10c1646",
   "metadata": {},
   "outputs": [
    {
     "name": "stdout",
     "output_type": "stream",
     "text": [
      "[0.61709833 0.87841968 0.60448208 0.4123117 ]\n"
     ]
    }
   ],
   "source": [
    "var4= np.random.ranf(4)\n",
    "print(var4)"
   ]
  },
  {
   "cell_type": "markdown",
   "id": "acf57960-01c1-4296-9fe5-61d4bc699d01",
   "metadata": {},
   "source": [
    "randint()"
   ]
  },
  {
   "cell_type": "code",
   "execution_count": 53,
   "id": "d069157e-58d8-45ec-b80c-cf9b4a5f965e",
   "metadata": {},
   "outputs": [
    {
     "name": "stdout",
     "output_type": "stream",
     "text": [
      "[17 13 15  7 11]\n"
     ]
    }
   ],
   "source": [
    "var5= np.random.randint(5,20,5) #randint(min,max,totalvalue)\n",
    "print(var5)"
   ]
  },
  {
   "cell_type": "markdown",
   "id": "d77973af-5f04-44c2-823e-860e4f73f98e",
   "metadata": {},
   "source": [
    "Data Type"
   ]
  },
  {
   "cell_type": "code",
   "execution_count": 4,
   "id": "dd9a33f1-248e-4224-940a-7f1e033a2dad",
   "metadata": {},
   "outputs": [
    {
     "name": "stdout",
     "output_type": "stream",
     "text": [
      "Data type : int32\n"
     ]
    }
   ],
   "source": [
    "import numpy as np\n",
    "var= np.array([1,2,3,4])\n",
    "print(\"Data type :\", var.dtype)"
   ]
  },
  {
   "cell_type": "code",
   "execution_count": 6,
   "id": "06c842c1-1ad9-4f3a-b32f-6ea2d66f5ed4",
   "metadata": {},
   "outputs": [
    {
     "name": "stdout",
     "output_type": "stream",
     "text": [
      "Data type : float64\n"
     ]
    }
   ],
   "source": [
    "var= np.array([1.2,3.4,2.4])\n",
    "print(\"Data type :\", var.dtype)"
   ]
  },
  {
   "cell_type": "code",
   "execution_count": 8,
   "id": "a018f5a0-ba90-40a7-97bb-7fef9c29feb9",
   "metadata": {},
   "outputs": [
    {
     "name": "stdout",
     "output_type": "stream",
     "text": [
      "Data type : <U1\n"
     ]
    }
   ],
   "source": [
    "var= np.array([\"o\",\"i\",\"u\"])\n",
    "print(\"Data type :\", var.dtype)"
   ]
  },
  {
   "cell_type": "code",
   "execution_count": 10,
   "id": "a32c7014-6eea-4316-b473-0259709e958d",
   "metadata": {},
   "outputs": [
    {
     "name": "stdout",
     "output_type": "stream",
     "text": [
      "Data type : <U11\n"
     ]
    }
   ],
   "source": [
    "var= np.array([1,2,3,4,\"u\",\"o\",\"i\"])\n",
    "print(\"Data type :\", var.dtype)"
   ]
  },
  {
   "cell_type": "code",
   "execution_count": 20,
   "id": "9901c6f0-f2b6-431e-8e2e-e6e2f12b0465",
   "metadata": {},
   "outputs": [
    {
     "name": "stdout",
     "output_type": "stream",
     "text": [
      "Data type : float64\n",
      "[1. 3. 4. 5.]\n"
     ]
    }
   ],
   "source": [
    "x=np.array([1,3,4,5],dtype=np.float64)\n",
    "print(\"Data type :\", x.dtype)\n",
    "print(x)"
   ]
  },
  {
   "cell_type": "code",
   "execution_count": 18,
   "id": "e255ce86-2047-4750-a34e-4e5f5114a275",
   "metadata": {},
   "outputs": [
    {
     "name": "stdout",
     "output_type": "stream",
     "text": [
      "Data type : float32\n",
      "[1. 3. 4. 5.]\n"
     ]
    }
   ],
   "source": [
    "x1=np.array([1,3,4,5],dtype=\"f\")\n",
    "print(\"Data type :\", x1.dtype)\n",
    "print(x1)"
   ]
  },
  {
   "cell_type": "code",
   "execution_count": 30,
   "id": "2d1db009-12ad-483e-98d5-10212c078231",
   "metadata": {},
   "outputs": [
    {
     "name": "stdout",
     "output_type": "stream",
     "text": [
      "Data type : int32\n",
      "[1 3 4 5]\n"
     ]
    }
   ],
   "source": [
    "x=np.array([1,3,4,5],dtype=np.int32)\n",
    "print(\"Data type :\", x.dtype)\n",
    "print(x)"
   ]
  },
  {
   "cell_type": "code",
   "execution_count": null,
   "id": "ff22c6d3-b1f2-49a9-8bf0-f2369a22f777",
   "metadata": {},
   "outputs": [],
   "source": [
    "x2=np.array([1,3,4,5])\n",
    "\n",
    "\n",
    "\n",
    "print(\"Data type :\", x2.dtype)\n",
    "print(x2)"
   ]
  }
 ],
 "metadata": {
  "kernelspec": {
   "display_name": "Python 3 (ipykernel)",
   "language": "python",
   "name": "python3"
  },
  "language_info": {
   "codemirror_mode": {
    "name": "ipython",
    "version": 3
   },
   "file_extension": ".py",
   "mimetype": "text/x-python",
   "name": "python",
   "nbconvert_exporter": "python",
   "pygments_lexer": "ipython3",
   "version": "3.12.4"
  }
 },
 "nbformat": 4,
 "nbformat_minor": 5
}
